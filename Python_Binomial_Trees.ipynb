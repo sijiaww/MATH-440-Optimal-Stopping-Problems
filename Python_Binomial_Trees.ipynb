{
 "cells": [
  {
   "cell_type": "markdown",
   "id": "74abc741",
   "metadata": {},
   "source": [
    "## MATH 440 Binomial Trees  \n",
    "### January 25, 2025"
   ]
  },
  {
   "cell_type": "code",
   "execution_count": 1,
   "id": "b4ccc423",
   "metadata": {},
   "outputs": [],
   "source": [
    "import numpy as np"
   ]
  },
  {
   "cell_type": "code",
   "execution_count": 2,
   "id": "82b89c69",
   "metadata": {},
   "outputs": [],
   "source": [
    "def P_S(S_0,p_u,u,d,T):\n",
    "    S_Matrix=np.zeros((T+1,T+1),dtype=float)\n",
    "    P_Matrix=np.zeros((T+1,T+1),dtype=float)\n",
    "    S_Matrix[0][0]=S_0\n",
    "    P_Matrix[0][0]=1\n",
    "    \n",
    "    for t in range(1,T+1):\n",
    "        for row in range(t+1):\n",
    "            if row == t:\n",
    "                S_Matrix[row][t]=d*S_Matrix[row-1][t-1]\n",
    "                P_Matrix[row][t]=(1-p_u)*P_Matrix[row-1][t-1]\n",
    "            else:\n",
    "                S_Matrix[row][t]=u*S_Matrix[row][t-1]\n",
    "                P_Matrix[row][t]=(p_u*P_Matrix[row][t-1]+(1-p_u)*P_Matrix[row-1][t-1])\n",
    "    \n",
    "    return S_Matrix, P_Matrix"
   ]
  },
  {
   "cell_type": "code",
   "execution_count": 15,
   "id": "baa6477d",
   "metadata": {},
   "outputs": [],
   "source": [
    "def V(S_0,S_Matrix,r,c,p_u,u,d,T):\n",
    "    V_Matrix=np.zeros((T+1,T+1),dtype=float)\n",
    "    Z_Matrix=np.zeros((T+1,T+1),dtype=float)\n",
    "\n",
    "    for t in range(T+1):\n",
    "        for row in range(t+1):\n",
    "            Z_Matrix[row][t]=np.exp(-r*t)*(S_Matrix[row][t]-c)\n",
    "            V_Matrix[:,T]=Z_Matrix[:,T]\n",
    "            \n",
    "    for t in range(T-1,-1,-1):\n",
    "        for row in range(t+1):\n",
    "            Expected_future_V=(p_u*V_Matrix[row,t+1]+(1-p_u)*V_Matrix[row+1,t+1])\n",
    "            V_Matrix[row, t]=max(Z_Matrix[row,t],Expected_future_V)\n",
    "\n",
    "    return Z_Matrix, V_Matrix"
   ]
  },
  {
   "cell_type": "code",
   "execution_count": 17,
   "id": "39ffc010",
   "metadata": {},
   "outputs": [
    {
     "name": "stdout",
     "output_type": "stream",
     "text": [
      "S_Matrix: \n",
      " [[100.         100.3        100.6009     100.9027027  101.20541081\n",
      "  101.50902704]\n",
      " [  0.          99.7         99.9991     100.2990973  100.59999459\n",
      "  100.90179458]\n",
      " [  0.           0.          99.4009      99.6991027   99.99820001\n",
      "  100.29819461]\n",
      " [  0.           0.           0.          99.1026973   99.40000539\n",
      "   99.69820541]\n",
      " [  0.           0.           0.           0.          98.80538921\n",
      "   99.10180538]\n",
      " [  0.           0.           0.           0.           0.\n",
      "   98.50897304]]\n",
      "V_Matrix: \n",
      " [[90.         85.89601703 81.97908443 78.24068129 74.67267468 71.26730192]\n",
      " [ 0.         85.32527938 81.43455327 77.72115331 74.1770018  70.7943888 ]\n",
      " [ 0.          0.         80.89327953 77.20473317 73.68429407 70.32430467]\n",
      " [ 0.          0.          0.         76.69140229 73.19453374 69.85703261]\n",
      " [ 0.          0.          0.          0.         72.70770318 69.3925558 ]\n",
      " [ 0.          0.          0.          0.          0.         68.93085751]]\n",
      "P_Matrix: \n",
      " [[1.         0.49       0.2401     0.117649   0.05764801 0.02824752]\n",
      " [0.         0.51       0.4998     0.367353   0.24000396 0.14700243]\n",
      " [0.         0.         0.2601     0.382347   0.37470006 0.30600505]\n",
      " [0.         0.         0.         0.132651   0.25999596 0.31849505]\n",
      " [0.         0.         0.         0.         0.06765201 0.16574742]\n",
      " [0.         0.         0.         0.         0.         0.03450253]]\n"
     ]
    }
   ],
   "source": [
    "S_0=100\n",
    "T=5\n",
    "r=0.05\n",
    "c=10\n",
    "p_u=0.49 #np.random.uniform(0,1)\n",
    "u=1.003\n",
    "d=0.997\n",
    "\n",
    "S_Matrix,P_Matrix=P_S(S_0,p_u,u,d,T)\n",
    "Z_Matrix,V_Matrix=V(S_0,S_Matrix,r,c,p_u,u,d,T)\n",
    "\n",
    "print(\"S_Matrix: \\n\",S_Matrix)\n",
    "#print(\"Z_Matrix: \\n\",Z_Matrix)\n",
    "print(\"V_Matrix: \\n\",V_Matrix)\n",
    "print(\"P_Matrix: \\n\",P_Matrix)"
   ]
  }
 ],
 "metadata": {
  "kernelspec": {
   "display_name": "Python 3 (ipykernel)",
   "language": "python",
   "name": "python3"
  },
  "language_info": {
   "codemirror_mode": {
    "name": "ipython",
    "version": 3
   },
   "file_extension": ".py",
   "mimetype": "text/x-python",
   "name": "python",
   "nbconvert_exporter": "python",
   "pygments_lexer": "ipython3",
   "version": "3.10.9"
  }
 },
 "nbformat": 4,
 "nbformat_minor": 5
}
