{
 "cells": [
  {
   "cell_type": "markdown",
   "id": "75de0e80-8628-4502-85dc-c6c362526618",
   "metadata": {},
   "source": [
    "## MATH 440 Least-Squares Monte Carlo (LSM)  \n",
    "### Feb 22, 2025"
   ]
  },
  {
   "cell_type": "code",
   "execution_count": 2,
   "id": "7624a720-1602-4635-8c13-2a171a39bac5",
   "metadata": {},
   "outputs": [],
   "source": [
    "import numpy as np\n",
    "import matplotlib.pyplot as plt\n",
    "from sklearn.linear_model import LinearRegression\n",
    "from sklearn.preprocessing import PolynomialFeatures"
   ]
  },
  {
   "cell_type": "code",
   "execution_count": 3,
   "id": "338ae143-67e2-4e06-b012-50b99ed56339",
   "metadata": {},
   "outputs": [],
   "source": [
    "def paths_mc_gbm(S_0,r,sigma,T,N,M):\n",
    "    dt=T/N\n",
    "    paths=np.zeros((M,N+1))#with each row denotes different paths and cols denote time series\n",
    "    paths[:,0]=S_0\n",
    "    for t in range(1,N+1):\n",
    "        Z=np.random.normal(0, 1, M)\n",
    "        paths[:,t]=paths[:,t-1]*np.exp((r-0.5*sigma**2)*dt+sigma*np.sqrt(dt)*Z)\n",
    "    return paths"
   ]
  },
  {
   "cell_type": "code",
   "execution_count": 4,
   "id": "7617222d-19b8-4537-a28c-a5d7a456f064",
   "metadata": {},
   "outputs": [],
   "source": [
    "def lsm_fit_model(S_0,K,r,sigma,T,N,M,degree):\n",
    "    dt=T/N\n",
    "    paths=paths_mc_gbm(S_0,r,sigma,T,N,M)\n",
    "    V=np.zeros_like(paths)\n",
    "    V[:,-1]=np.maximum(K-paths[:,-1],0)\n",
    "    exercise=np.zeros_like(paths, dtype=bool)\n",
    "    exercise[:,-1]=V[:,-1]>0\n",
    "    \n",
    "    for t in range(N-1,0,-1):\n",
    "        in_the_money=paths[:,t]<K #in-money filter\n",
    "        X=paths[in_the_money,t].reshape(-1,1)\n",
    "        \n",
    "        poly=PolynomialFeatures(degree)\n",
    "        X_poly=poly.fit_transform(X)\n",
    "        Y=V[in_the_money,t+1]*np.exp(-r*dt)\n",
    "        model=LinearRegression(fit_intercept=False)\n",
    "        model.fit(X_poly,Y)\n",
    "        continuation=model.predict(X_poly)\n",
    "        exercise_value=K-X.flatten()\n",
    "        exercise[in_the_money,t]=exercise_value>continuation\n",
    "        V[in_the_money,t]=np.where(exercise[in_the_money,t],exercise_value,Y)\n",
    "        V[~in_the_money,t]=V[~in_the_money,t+1]*np.exp(-r*dt)\n",
    "\n",
    "    first_exercise=np.argmax(exercise,axis=1)\n",
    "    payoff_times=np.where(exercise.any(axis=1),first_exercise,N)\n",
    "    payoffs=V[np.arange(M), payoff_times]  \n",
    "    return np.mean(payoffs*np.exp(-r*payoff_times*dt))"
   ]
  },
  {
   "cell_type": "code",
   "execution_count": 5,
   "id": "041c1c5e-caea-4c33-ad57-cc36378aafa1",
   "metadata": {},
   "outputs": [
    {
     "name": "stdout",
     "output_type": "stream",
     "text": [
      "6.125723333684576\n"
     ]
    }
   ],
   "source": [
    "S_0=100\n",
    "K=100\n",
    "r=0.05\n",
    "sigma=0.2\n",
    "T=1 #time in total\n",
    "N=50 #number of steps\n",
    "M=10000 #number of paths\n",
    "\n",
    "option_value=lsm_fit_model(S_0,K,r,sigma,T,N,M,degree=3)\n",
    "print(option_value)"
   ]
  },
  {
   "cell_type": "code",
   "execution_count": null,
   "id": "dc551984-6c95-49a9-a134-172ee8619430",
   "metadata": {},
   "outputs": [],
   "source": []
  }
 ],
 "metadata": {
  "kernelspec": {
   "display_name": "Python [conda env:anaconda3]",
   "language": "python",
   "name": "conda-env-anaconda3-py"
  },
  "language_info": {
   "codemirror_mode": {
    "name": "ipython",
    "version": 3
   },
   "file_extension": ".py",
   "mimetype": "text/x-python",
   "name": "python",
   "nbconvert_exporter": "python",
   "pygments_lexer": "ipython3",
   "version": "3.10.16"
  }
 },
 "nbformat": 4,
 "nbformat_minor": 5
}
